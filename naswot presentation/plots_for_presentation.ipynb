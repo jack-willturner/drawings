{
 "cells": [
  {
   "cell_type": "markdown",
   "metadata": {},
   "source": [
    "Method\tSearch time (GPU hours)\tDataset\n",
    "MNasNet\t40000\tImageNet\n",
    "EfficientNet\t40000\tImageNet\n",
    "DARTS\t96\tImageNet\n",
    "NAS\t48000\tImageNet\n",
    "ENAS\t12\tCIFAR\n",
    "ProxylessNAS\t200\tImageNet\n",
    "FBNet\t216\tImageNet\n",
    "AmeobaNet\t75600\tImageNet\n"
   ]
  },
  {
   "cell_type": "code",
   "execution_count": 21,
   "metadata": {},
   "outputs": [
    {
     "data": {
      "image/png": "[encoded data removed]",
      "text/plain": [
       "<Figure size 540x216 with 1 Axes>"
      ]
     },
     "metadata": {
      "needs_background": "light"
     },
     "output_type": "display_data"
    }
   ],
   "source": [
    "import matplotlib.pyplot as plt\n",
    "import pandas as pd\n",
    "\n",
    "x = ['DARTS','ProxylessNAS','FBNet','MNasNet','EfficientNet','NAS','AmeobaNet']\n",
    "y = [96,200,216,40000,40000,48000,75600]\n",
    "\n",
    "colours = ['#238A8D']\n",
    "\n",
    "fig,ax = plt.subplots(figsize=(7.5,3))\n",
    "ax.bar(x, y, color=colours, alpha=0.8)\n",
    "ax.set_yscale('log')\n",
    "ax.spines['right'].set_visible(False)\n",
    "ax.spines['top'].set_visible(False)\n",
    "ax.set_ylabel('Time (hours)')\n",
    "plt.savefig('nas_is_slow.pdf')"
   ]
  },
  {
   "cell_type": "code",
   "execution_count": null,
   "metadata": {},
   "outputs": [],
   "source": []
  }
 ],
 "metadata": {
  "kernelspec": {
   "display_name": "Python 3",
   "language": "python",
   "name": "python3"
  },
  "language_info": {
   "codemirror_mode": {
    "name": "ipython",
    "version": 3
   },
   "file_extension": ".py",
   "mimetype": "text/x-python",
   "name": "python",
   "nbconvert_exporter": "python",
   "pygments_lexer": "ipython3",
   "version": "3.7.7"
  }
 },
 "nbformat": 4,
 "nbformat_minor": 4
}
